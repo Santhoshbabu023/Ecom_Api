{
  "nbformat": 4,
  "nbformat_minor": 0,
  "metadata": {
    "colab": {
      "provenance": []
    },
    "kernelspec": {
      "name": "python3",
      "display_name": "Python 3"
    },
    "language_info": {
      "name": "python"
    }
  },
  "cells": [
    {
      "cell_type": "code",
      "source": [
        "def register_user(first_name, last_name, email, password):\n",
        "\n",
        "    data = {\n",
        "        \"first_name\": first_name,\n",
        "        \"last_name\": last_name,\n",
        "        \"email\": email,\n",
        "        \"password\": password,\n",
        "    }\n",
        "    response = data\n",
        "    return response\n",
        "\n",
        "def login_user(email, password):\n",
        "\n",
        "    data = {\n",
        "        \"email\": email,\n",
        "        \"password\": password,\n",
        "    }\n",
        "    response = data\n",
        "    return response\n",
        "\n",
        "def upload_products(file):\n",
        "\n",
        "    with open(\"/content/Book1.csv\", \"r\") as f:\n",
        "        reader = csv.reader(f)\n",
        "        products = list(reader)\n",
        "    response = data\n",
        "    return response\n",
        "\n",
        "def add_review(product_id, rating, review):\n",
        "\n",
        "    data = {\n",
        "        \"rating\": rating,\n",
        "        \"review\": review,\n",
        "    }\n",
        "    response = data\n",
        "    return response\n",
        "\n",
        "\n",
        "\n"
      ],
      "metadata": {
        "id": "f8tYXaUZOZ81"
      },
      "execution_count": 17,
      "outputs": []
    },
    {
      "cell_type": "code",
      "source": [
        "def new_user():\n",
        "  f_name=input(\"Enter first name\")\n",
        "  l_name=input(\"Enter last name\")\n",
        "  Email=input(\"Enter Email\")\n",
        "  Password=input(\"Enter password\")\n",
        "  response = register_user(f_name,l_name,Email,Password)\n",
        "  User_login()\n",
        "\n",
        "\n",
        "def User_login():\n",
        "  Email=input(\"Enter Email\")\n",
        "  Password=input(\"Enter Password\")\n",
        "  b=input(\"Press 1-Upload Products/n 2-add review \")\n",
        "  if(b==1):\n",
        "    product_upload()\n",
        "  else:\n",
        "    review()\n",
        "\n",
        "def product_upload():\n",
        "  response = upload_products(f)\n",
        "\n",
        "def review():\n",
        "  response = add_review(1, 5, \"This product is great!\")\n",
        "\n",
        "\n"
      ],
      "metadata": {
        "id": "BlymqLUxWRbJ"
      },
      "execution_count": 18,
      "outputs": []
    },
    {
      "cell_type": "code",
      "source": [
        "if __name__ == \"__main__\":\n",
        "  a=int(input(\"Press 1-New user 2-User login\"))\n",
        "  if(a==1):\n",
        "    new_user()\n",
        "  else:\n",
        "    User_login()\n"
      ],
      "metadata": {
        "colab": {
          "base_uri": "https://localhost:8080/"
        },
        "id": "aW-MpnCjR146",
        "outputId": "1c6cbce9-8359-4a88-cef4-cfad47d2e2d0"
      },
      "execution_count": 19,
      "outputs": [
        {
          "name": "stdout",
          "output_type": "stream",
          "text": [
            "Press 1-New user 2-User login1\n",
            "Enter first namewert]\n",
            "Enter last namedfghj\n",
            "Enter Emailsdfghj\n",
            "Enter passwordfghjkl\n",
            "Enter Emaildfghj\n",
            "Enter Passworddfgh\n",
            "Press 1-Upload Products/n 2-add review s\n"
          ]
        }
      ]
    }
  ]
}